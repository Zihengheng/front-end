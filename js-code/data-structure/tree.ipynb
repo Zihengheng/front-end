{
 "cells": [
  {
   "cell_type": "markdown",
   "metadata": {},
   "source": [
    "### 代码实现系列\n",
    "#### 1. JS实现一颗树"
   ]
  },
  {
   "cell_type": "markdown",
   "metadata": {},
   "source": [
    "节点Node的属性"
   ]
  },
  {
   "cell_type": "code",
   "execution_count": null,
   "metadata": {},
   "outputs": [],
   "source": [
    "function Node(data){\n",
    "    this.data = data;\n",
    "    this.parent = null;\n",
    "    this.children = [];\n",
    "}"
   ]
  },
  {
   "source": [
    "function Tree(data){\n",
    "    var node = new Node(data);\n",
    "    this._root = node;\n",
    "}"
   ],
   "cell_type": "code",
   "metadata": {},
   "execution_count": null,
   "outputs": []
  },
  {
   "source": [
    "创建Tree实例："
   ],
   "cell_type": "markdown",
   "metadata": {}
  },
  {
   "cell_type": "code",
   "execution_count": null,
   "metadata": {},
   "outputs": [],
   "source": [
    "var tree1 = new Tree(\"CEO\");\n",
    "console.log(tree1._root);"
   ]
  }
 ],
 "metadata": {
  "kernelspec": {
   "display_name": "Javascript (Node.js)",
   "language": "javascript",
   "name": "javascript"
  },
  "language_info": {
   "file_extension": ".js",
   "mimetype": "application/javascript",
   "name": "javascript",
   "version": "15.4.0"
  }
 },
 "nbformat": 4,
 "nbformat_minor": 4
}